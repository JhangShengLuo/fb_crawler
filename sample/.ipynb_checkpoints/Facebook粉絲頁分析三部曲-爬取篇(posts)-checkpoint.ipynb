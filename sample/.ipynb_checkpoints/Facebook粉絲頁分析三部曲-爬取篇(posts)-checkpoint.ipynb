{
 "cells": [
  {
   "cell_type": "markdown",
   "metadata": {
    "deletable": true,
    "editable": true
   },
   "source": [
    "# 如何爬取Facebook粉絲頁資料 (posts) ？"
   ]
  },
  {
   "cell_type": "markdown",
   "metadata": {
    "deletable": true,
    "editable": true
   },
   "source": [
    "基本上是透過 **Facebook Graph API** 去取得粉絲頁的資料,但是使用 **Facebook Graph API** 還需要取得權限,有兩種方法 :  \n",
    "第一種是取得 Access Token  \n",
    "第二種是建立 Facebook App的應用程式,用該應用程式的帳號,密碼當作權限  \n",
    "兩者的差別在於第一種會有時效限制,必須每隔一段時間去更新Access Token,才能使用  \n",
    "Access Token\n",
    "![title](https://raw.githubusercontent.com/wutienyang/facebook_fanpage_analysis/master/image/Selection_003.png)  "
   ]
  },
  {
   "cell_type": "markdown",
   "metadata": {
    "deletable": true,
    "editable": true
   },
   "source": [
    "本文是採用第二種方法  \n",
    "要先取得應用程式的帳號,密碼 app_id, app_secret  \n",
    "![title](https://raw.githubusercontent.com/wutienyang/facebook_fanpage_analysis/master/image/Selection_004.png)"
   ]
  },
  {
   "cell_type": "code",
   "execution_count": 1,
   "metadata": {
    "collapsed": true,
    "deletable": true,
    "editable": true
   },
   "outputs": [],
   "source": [
    "# 載入python 套件\n",
    "import requests\n",
    "import datetime\n",
    "import time\n",
    "import pandas as pd"
   ]
  },
  {
   "cell_type": "markdown",
   "metadata": {
    "deletable": true,
    "editable": true
   },
   "source": [
    "第一步 - 要先取得應用程式的帳號,密碼 (app_id, app_secret)  \n",
    "第二步 - 輸入要分析的粉絲團的 id (page_id)  \n",
    "[[教學]如何申請建立 Facebook APP ID 應用程式ID](https://sofree.cc/apply-facebook-app-id/)  "
   ]
  },
  {
   "cell_type": "code",
   "execution_count": 2,
   "metadata": {
    "collapsed": true,
    "deletable": true,
    "editable": true
   },
   "outputs": [],
   "source": [
    "# 分析的粉絲頁的id\n",
    "page_id = \"appledaily.tw\"\n",
    "\n",
    "app_id = \"\"\n",
    "app_secret = \"\"\n",
    "\n",
    "access_token = app_id + \"|\" + app_secret"
   ]
  },
  {
   "cell_type": "markdown",
   "metadata": {
    "deletable": true,
    "editable": true
   },
   "source": [
    "![title](https://raw.githubusercontent.com/wutienyang/facebook_fanpage_analysis/master/image/Selection_011.png)\n",
    "\n",
    "爬取的基本概念是送request透過Facebook Graph API來取得資料  \n",
    "而request就是一個url，這個url會根據你的設定(你要拿的欄位)而回傳你需要的資料  \n",
    "\n",
    "但是在爬取大型粉絲頁時,很可能會因為你送的request太多了,就發生錯誤  \n",
    "這邊的解決方法很簡單用一個while迴圈,發生錯誤就休息5秒,5秒鐘後,再重新送request  \n",
    "\n",
    "\n",
    "基本上由5個function來完成：  \n",
    "\n",
    "`request_until_succeed`  \n",
    "來確保完成爬取  \n",
    "\n",
    "`getFacebookPageFeedData`  \n",
    "來產生post的各種資料(message,link,created_time,type,name,id...) \n",
    "\n",
    "`getReactionsForStatus`  \n",
    "來獲得該post的各reaction數目(like, angry, sad ...)  \n",
    "\n",
    "`processFacebookPageFeedStatus`  \n",
    "是處理getFacebookPageFeedData得到的各種資料,把它們結構化  \n",
    "\n",
    "`scrapeFacebookPageFeedStatus`  \n",
    "為主程式  "
   ]
  },
  {
   "cell_type": "code",
   "execution_count": 3,
   "metadata": {
    "collapsed": true,
    "deletable": true,
    "editable": true
   },
   "outputs": [],
   "source": [
    "# 判斷response有無正常 正常 200，若無隔五秒鐘之後再試\n",
    "def request_until_succeed(url):\n",
    "    success = False\n",
    "    while success is False:\n",
    "        try: \n",
    "            req = requests.get(url)\n",
    "            if req.status_code == 200:\n",
    "                success = True\n",
    "        except Exception as e:\n",
    "            print(e)\n",
    "            time.sleep(5)\n",
    "            print(\"Error for URL %s: %s\" % (url, datetime.datetime.now()))\n",
    "            print(\"Retrying.\")\n",
    "\n",
    "    return req"
   ]
  },
  {
   "cell_type": "markdown",
   "metadata": {
    "deletable": true,
    "editable": true
   },
   "source": [
    "url = base + node + fields + parameters  \n",
    "base : 可以設定Facebook Graph API的版本,這邊設定v2.6  \n",
    "node : 分析哪個粉絲頁的post 由page_id去設定  \n",
    "fields : 你要取得資料的種類  \n",
    "parameters : 權限設定和每次取多少筆(num_statuses)  "
   ]
  },
  {
   "cell_type": "code",
   "execution_count": 4,
   "metadata": {
    "collapsed": true,
    "deletable": true,
    "editable": true
   },
   "outputs": [],
   "source": [
    "# 取得Facebook data\n",
    "def getFacebookPageFeedData(page_id, access_token, num_statuses):\n",
    "\n",
    "    # Construct the URL string; see http://stackoverflow.com/a/37239851 for\n",
    "    # Reactions parameters\n",
    "    base = \"https://graph.facebook.com/v2.6\"\n",
    "    node = \"/%s/posts\" % page_id \n",
    "    fields = \"/?fields=message,link,created_time,type,name,id,\" + \\\n",
    "            \"comments.limit(0).summary(true),shares,reactions\" + \\\n",
    "            \".limit(0).summary(true)\"\n",
    "    parameters = \"&limit=%s&access_token=%s\" % (num_statuses, access_token)\n",
    "    url = base + node + fields + parameters\n",
    "\n",
    "    # 取得data\n",
    "    data = request_until_succeed(url).json()\n",
    "    return data"
   ]
  },
  {
   "cell_type": "code",
   "execution_count": 5,
   "metadata": {
    "collapsed": true,
    "deletable": true,
    "editable": true
   },
   "outputs": [],
   "source": [
    "# 取得該篇文章的 reactions like,love,wow,haha,sad,angry數目\n",
    "def getReactionsForStatus(status_id, access_token):\n",
    "\n",
    "    # See http://stackoverflow.com/a/37239851 for Reactions parameters\n",
    "        # Reactions are only accessable at a single-post endpoint\n",
    "\n",
    "    base = \"https://graph.facebook.com/v2.6\"\n",
    "    node = \"/%s\" % status_id\n",
    "    reactions = \"/?fields=\" \\\n",
    "            \"reactions.type(LIKE).limit(0).summary(total_count).as(like)\" \\\n",
    "            \",reactions.type(LOVE).limit(0).summary(total_count).as(love)\" \\\n",
    "            \",reactions.type(WOW).limit(0).summary(total_count).as(wow)\" \\\n",
    "            \",reactions.type(HAHA).limit(0).summary(total_count).as(haha)\" \\\n",
    "            \",reactions.type(SAD).limit(0).summary(total_count).as(sad)\" \\\n",
    "            \",reactions.type(ANGRY).limit(0).summary(total_count).as(angry)\"\n",
    "    parameters = \"&access_token=%s\" % access_token\n",
    "    url = base + node + reactions + parameters\n",
    "\n",
    "    # 取得data\n",
    "    data = request_until_succeed(url).json()\n",
    "    return data"
   ]
  },
  {
   "cell_type": "markdown",
   "metadata": {
    "deletable": true,
    "editable": true
   },
   "source": [
    "生成status_link ，此連結可以回到該臉書上的post  \n",
    "status_published = status_published + datetime.timedelta(hours=8) 根據所在時區 TW +8  "
   ]
  },
  {
   "cell_type": "code",
   "execution_count": 6,
   "metadata": {
    "collapsed": true,
    "deletable": true,
    "editable": true
   },
   "outputs": [],
   "source": [
    "def processFacebookPageFeedStatus(status, access_token):\n",
    "\n",
    "    # 要去確認抓到的資料是否為空\n",
    "    status_id = status['id']\n",
    "    status_type = status['type']\n",
    "    if 'message' not in status.keys():\n",
    "        status_message = ''\n",
    "    else:\n",
    "        status_message = status['message']\n",
    "    if 'name' not in status.keys():\n",
    "        link_name = ''\n",
    "    else:\n",
    "        link_name = status['name']\n",
    "    link = status_id.split('_')\n",
    "    \n",
    "    # 此連結可以回到該臉書上的post\n",
    "    status_link = 'https://www.facebook.com/'+link[0]+'/posts/'+link[1]\n",
    "\n",
    "    status_published = datetime.datetime.strptime(status['created_time'],'%Y-%m-%dT%H:%M:%S+0000')\n",
    "    # 根據所在時區 TW +8\n",
    "    status_published = status_published + datetime.timedelta(hours=8)\n",
    "    status_published = status_published.strftime('%Y-%m-%d %H:%M:%S') \n",
    "    \n",
    "    # 要去確認抓到的資料是否為空\n",
    "    if 'reactions' not in status:\n",
    "        num_reactions = 0\n",
    "    else:\n",
    "        num_reactions = status['reactions']['summary']['total_count']\n",
    "    if 'comments' not in status:\n",
    "        num_comments = 0\n",
    "    else:\n",
    "        num_comments = status['comments']['summary']['total_count']\n",
    "    if 'shares' not in status:\n",
    "        num_shares = 0\n",
    "    else:\n",
    "        num_shares = status['shares']['count']\n",
    "\n",
    "    def get_num_total_reactions(reaction_type, reactions):\n",
    "        if reaction_type not in reactions:\n",
    "            return 0\n",
    "        else:\n",
    "            return reactions[reaction_type]['summary']['total_count']\n",
    "    \n",
    "    # 取得該篇文章的 reactions like,love,wow,haha,sad,angry數目\n",
    "    reactions = getReactionsForStatus(status_id, access_token)\n",
    "    \n",
    "    num_loves = get_num_total_reactions('love', reactions)\n",
    "    num_wows = get_num_total_reactions('wow', reactions)\n",
    "    num_hahas = get_num_total_reactions('haha', reactions)\n",
    "    num_sads = get_num_total_reactions('sad', reactions)\n",
    "    num_angrys = get_num_total_reactions('angry', reactions)\n",
    "    num_likes = get_num_total_reactions('like', reactions)\n",
    "\n",
    "    # 回傳tuple形式的資料\n",
    "    return (status_id, status_message, link_name, status_type, status_link,\n",
    "            status_published, num_reactions, num_comments, num_shares,\n",
    "            num_likes, num_loves, num_wows, num_hahas, num_sads, num_angrys)"
   ]
  },
  {
   "cell_type": "markdown",
   "metadata": {
    "deletable": true,
    "editable": true
   },
   "source": [
    "假設一個粉絲頁,有250個posts  \n",
    "第一次用 `getFacebookPageFeedData` 得到 url 送入 `request_until_succeed`  \n",
    "得到第一個dictionary  \n",
    "dictionary中有兩個key,一個是data(100筆資料都在其中)  \n",
    "而另一個是next(下一個100筆的url在裡面,把它送出去會在得到另一個dictionary,裡面又含兩個key,一樣是data和next)  \n",
    "第一次送的 request data: 第100筆資料 next: 下100筆資料的url  \n",
    "第二次送的 request data: 第101-200筆資料 next: 下100筆資料的url  \n",
    "第三次送的 request data: 第201- 250筆資料 next: 無 (因為沒有下一百筆了)  \n",
    "總共送3次request  \n",
    "\n",
    "由於Facebook限制每次最多抓100篇posts,因此當粉絲頁超過100篇時,  \n",
    "就會有 next 的 url,必須送出此url在獲得下100篇,由 has_next_page 來決定  \n",
    "是否下100篇  \n",
    "\n",
    "num_processed是用來計算處理多少posts,每處理100筆就輸出時間\n",
    "\n",
    "最後會把結果輸出成csv,供後續章節繼續分析和預測  "
   ]
  },
  {
   "cell_type": "code",
   "execution_count": 7,
   "metadata": {
    "collapsed": true,
    "deletable": true,
    "editable": true
   },
   "outputs": [],
   "source": [
    "def scrapeFacebookPageFeedStatus(page_id, access_token):\n",
    "    # all_statuses 用來儲存的list,先放入欄位名稱\n",
    "    all_statuses = [('status_id', 'status_message', 'link_name', 'status_type', 'status_link',\n",
    "            'status_published', 'num_reactions', 'num_comments', 'num_shares',\n",
    "            'num_likes', 'num_loves', 'num_wows', 'num_hahas', 'num_sads', 'num_angrys')]\n",
    "    \n",
    "    has_next_page = True \n",
    "    num_processed = 0   # 計算處理多少post\n",
    "    scrape_starttime = datetime.datetime.now()\n",
    "\n",
    "    print(\"Scraping %s Facebook Page: %s\\n\" % (page_id, scrape_starttime))\n",
    "\n",
    "    statuses = getFacebookPageFeedData(page_id, access_token, 100)\n",
    "\n",
    "    while has_next_page:\n",
    "        for status in statuses['data']:\n",
    "\n",
    "            # 確定有 reaction 再把結構化後的資料存入 all_statuses\n",
    "            if 'reactions' in status:\n",
    "                all_statuses.append(processFacebookPageFeedStatus(status,access_token))\n",
    "\n",
    "            # 觀察爬取進度,每處理100篇post,就輸出時間,\n",
    "            num_processed += 1\n",
    "            if num_processed % 100 == 0:\n",
    "                print(\"%s Statuses Processed: %s\" % (num_processed, datetime.datetime.now()))\n",
    "\n",
    "        # 每超過100個post就會有next,可以從next中取得下100篇, 直到沒有next\n",
    "        if 'paging' in statuses.keys():\n",
    "            statuses = request_until_succeed(statuses['paging']['next']).json()\n",
    "        else:\n",
    "            has_next_page = False\n",
    "\n",
    "    print(\"\\nDone!\\n%s Statuses Processed in %s\" % \\\n",
    "        (num_processed, datetime.datetime.now() - scrape_starttime))\n",
    "    \n",
    "    return all_statuses"
   ]
  },
  {
   "cell_type": "code",
   "execution_count": 8,
   "metadata": {
    "collapsed": false,
    "deletable": true,
    "editable": true,
    "scrolled": true
   },
   "outputs": [
    {
     "name": "stdout",
     "output_type": "stream",
     "text": [
      "Scraping appledaily.tw Facebook Page: 2017-03-14 18:24:27.344058\n",
      "\n",
      "100 Statuses Processed: 2017-03-14 18:24:52.341175\n",
      "200 Statuses Processed: 2017-03-14 18:25:17.114291\n",
      "300 Statuses Processed: 2017-03-14 18:25:42.147270\n",
      "400 Statuses Processed: 2017-03-14 18:26:08.442417\n",
      "500 Statuses Processed: 2017-03-14 18:26:34.240028\n",
      "600 Statuses Processed: 2017-03-14 18:26:59.547042\n",
      "700 Statuses Processed: 2017-03-14 18:27:24.895273\n",
      "800 Statuses Processed: 2017-03-14 18:27:49.752256\n",
      "900 Statuses Processed: 2017-03-14 18:28:19.682193\n",
      "1000 Statuses Processed: 2017-03-14 18:28:45.043433\n",
      "1100 Statuses Processed: 2017-03-14 18:29:10.427917\n",
      "1200 Statuses Processed: 2017-03-14 18:29:35.867298\n",
      "1300 Statuses Processed: 2017-03-14 18:30:01.426084\n",
      "1400 Statuses Processed: 2017-03-14 18:30:27.023855\n",
      "1500 Statuses Processed: 2017-03-14 18:30:52.605395\n",
      "1600 Statuses Processed: 2017-03-14 18:31:19.059738\n",
      "1700 Statuses Processed: 2017-03-14 18:31:44.696886\n",
      "1800 Statuses Processed: 2017-03-14 18:32:10.995391\n",
      "1900 Statuses Processed: 2017-03-14 18:32:36.193756\n",
      "2000 Statuses Processed: 2017-03-14 18:33:01.537011\n",
      "2100 Statuses Processed: 2017-03-14 18:33:28.878967\n",
      "2200 Statuses Processed: 2017-03-14 18:33:55.079628\n",
      "2300 Statuses Processed: 2017-03-14 18:34:23.744874\n",
      "2400 Statuses Processed: 2017-03-14 18:34:48.970759\n",
      "2500 Statuses Processed: 2017-03-14 18:35:14.022596\n",
      "2600 Statuses Processed: 2017-03-14 18:35:39.631498\n",
      "2700 Statuses Processed: 2017-03-14 18:36:05.411284\n",
      "2800 Statuses Processed: 2017-03-14 18:36:31.221738\n",
      "2900 Statuses Processed: 2017-03-14 18:36:57.033939\n",
      "3000 Statuses Processed: 2017-03-14 18:37:22.369105\n",
      "3100 Statuses Processed: 2017-03-14 18:37:48.160849\n",
      "3200 Statuses Processed: 2017-03-14 18:38:14.836224\n",
      "3300 Statuses Processed: 2017-03-14 18:38:40.125286\n",
      "3400 Statuses Processed: 2017-03-14 18:39:04.902551\n",
      "3500 Statuses Processed: 2017-03-14 18:39:30.268135\n",
      "3600 Statuses Processed: 2017-03-14 18:39:56.086407\n",
      "3700 Statuses Processed: 2017-03-14 18:40:21.084072\n",
      "3800 Statuses Processed: 2017-03-14 18:40:46.285839\n",
      "3900 Statuses Processed: 2017-03-14 18:41:11.102542\n",
      "4000 Statuses Processed: 2017-03-14 18:41:36.079854\n",
      "4100 Statuses Processed: 2017-03-14 18:42:01.454794\n",
      "4200 Statuses Processed: 2017-03-14 18:42:26.706651\n",
      "4300 Statuses Processed: 2017-03-14 18:42:51.357438\n",
      "4400 Statuses Processed: 2017-03-14 18:43:16.144430\n",
      "4500 Statuses Processed: 2017-03-14 18:43:41.703740\n",
      "4600 Statuses Processed: 2017-03-14 18:44:06.435289\n",
      "4700 Statuses Processed: 2017-03-14 18:44:30.746588\n",
      "4800 Statuses Processed: 2017-03-14 18:44:55.695510\n",
      "4900 Statuses Processed: 2017-03-14 18:45:19.992582\n",
      "5000 Statuses Processed: 2017-03-14 18:45:44.352221\n",
      "5100 Statuses Processed: 2017-03-14 18:46:08.782931\n",
      "5200 Statuses Processed: 2017-03-14 18:46:33.469404\n",
      "\n",
      "Done!\n",
      "5234 Statuses Processed in 0:22:14.865004\n"
     ]
    }
   ],
   "source": [
    "all_statuses = scrapeFacebookPageFeedStatus(page_id, access_token)"
   ]
  },
  {
   "cell_type": "markdown",
   "metadata": {
    "collapsed": true,
    "deletable": true,
    "editable": true
   },
   "source": [
    "5234篇post共花了20分鐘,把結果存成csv交給下一章去分析  \n",
    "all_statuses[0] 為 column name  \n",
    "all_statuses[1:] 為處理後結構化的資料  "
   ]
  },
  {
   "cell_type": "code",
   "execution_count": 9,
   "metadata": {
    "collapsed": false,
    "deletable": true,
    "editable": true
   },
   "outputs": [],
   "source": [
    "df = pd.DataFrame(all_statuses[1:], columns=all_statuses[0])"
   ]
  },
  {
   "cell_type": "code",
   "execution_count": 10,
   "metadata": {
    "collapsed": false,
    "deletable": true,
    "editable": true
   },
   "outputs": [
    {
     "data": {
      "text/html": [
       "<div>\n",
       "<table border=\"1\" class=\"dataframe\">\n",
       "  <thead>\n",
       "    <tr style=\"text-align: right;\">\n",
       "      <th></th>\n",
       "      <th>status_id</th>\n",
       "      <th>status_message</th>\n",
       "      <th>link_name</th>\n",
       "      <th>status_type</th>\n",
       "      <th>status_link</th>\n",
       "      <th>status_published</th>\n",
       "      <th>num_reactions</th>\n",
       "      <th>num_comments</th>\n",
       "      <th>num_shares</th>\n",
       "      <th>num_likes</th>\n",
       "      <th>num_loves</th>\n",
       "      <th>num_wows</th>\n",
       "      <th>num_hahas</th>\n",
       "      <th>num_sads</th>\n",
       "      <th>num_angrys</th>\n",
       "    </tr>\n",
       "  </thead>\n",
       "  <tbody>\n",
       "    <tr>\n",
       "      <th>0</th>\n",
       "      <td>232633627068_10155689734022069</td>\n",
       "      <td>加油！放寬心才能走出來\\n　\\n#金曲男星 #蛋堡 #邱振熙 蛋堡 Soft Lipa</td>\n",
       "      <td>【壹週刊】​金曲男星進精神療養院　曾入圍歌王</td>\n",
       "      <td>link</td>\n",
       "      <td>https://www.facebook.com/232633627068/posts/10...</td>\n",
       "      <td>2017-03-14 18:20:02</td>\n",
       "      <td>275</td>\n",
       "      <td>3</td>\n",
       "      <td>0</td>\n",
       "      <td>240</td>\n",
       "      <td>13</td>\n",
       "      <td>14</td>\n",
       "      <td>3</td>\n",
       "      <td>4</td>\n",
       "      <td>1</td>\n",
       "    </tr>\n",
       "    <tr>\n",
       "      <th>1</th>\n",
       "      <td>232633627068_10155689752042069</td>\n",
       "      <td>#最新 趕快清查把該抓的抓起來！\\n　\\n相關→ 自殺副局長12年前與晶鑽搭上線　多次提供開...</td>\n",
       "      <td>【晶鑽弊案】北市高官也涉貪　建管處前主秘遭搜索約談</td>\n",
       "      <td>link</td>\n",
       "      <td>https://www.facebook.com/232633627068/posts/10...</td>\n",
       "      <td>2017-03-14 17:59:25</td>\n",
       "      <td>157</td>\n",
       "      <td>8</td>\n",
       "      <td>0</td>\n",
       "      <td>141</td>\n",
       "      <td>3</td>\n",
       "      <td>2</td>\n",
       "      <td>7</td>\n",
       "      <td>0</td>\n",
       "      <td>4</td>\n",
       "    </tr>\n",
       "    <tr>\n",
       "      <th>2</th>\n",
       "      <td>232633627068_10155689484782069</td>\n",
       "      <td>#慎入 這就跟把雞排放進我嘴裡又不讓我咬一樣呀...... #宅編\\n　　\\n完整 #動新聞...</td>\n",
       "      <td>【大咬片】馴獸師把頭放進鱷魚嘴　被咬得血流滿面</td>\n",
       "      <td>video</td>\n",
       "      <td>https://www.facebook.com/232633627068/posts/10...</td>\n",
       "      <td>2017-03-14 17:50:00</td>\n",
       "      <td>269</td>\n",
       "      <td>24</td>\n",
       "      <td>4</td>\n",
       "      <td>210</td>\n",
       "      <td>4</td>\n",
       "      <td>29</td>\n",
       "      <td>24</td>\n",
       "      <td>2</td>\n",
       "      <td>0</td>\n",
       "    </tr>\n",
       "    <tr>\n",
       "      <th>3</th>\n",
       "      <td>232633627068_10155689727032069</td>\n",
       "      <td>距離周末前往台中還有...好久 #隨編\\n　\\n#正妹 #紅豆餅妹 #朝聖啦 #蕭卉君 \\n...</td>\n",
       "      <td>清新紅豆餅妹藏逆天「胸器」！網友揪朝聖啦</td>\n",
       "      <td>link</td>\n",
       "      <td>https://www.facebook.com/232633627068/posts/10...</td>\n",
       "      <td>2017-03-14 17:40:00</td>\n",
       "      <td>2904</td>\n",
       "      <td>109</td>\n",
       "      <td>144</td>\n",
       "      <td>2802</td>\n",
       "      <td>38</td>\n",
       "      <td>44</td>\n",
       "      <td>18</td>\n",
       "      <td>1</td>\n",
       "      <td>1</td>\n",
       "    </tr>\n",
       "    <tr>\n",
       "      <th>4</th>\n",
       "      <td>232633627068_10155689539617069</td>\n",
       "      <td>Betty批「這種人根本不配當攝影師，很沒道德」\\n　　\\n【完整 #動新聞】大尺度女模控無...</td>\n",
       "      <td>大尺度女模控無良攝影師　外流露點走光照</td>\n",
       "      <td>video</td>\n",
       "      <td>https://www.facebook.com/232633627068/posts/10...</td>\n",
       "      <td>2017-03-14 17:30:00</td>\n",
       "      <td>595</td>\n",
       "      <td>18</td>\n",
       "      <td>7</td>\n",
       "      <td>496</td>\n",
       "      <td>8</td>\n",
       "      <td>21</td>\n",
       "      <td>4</td>\n",
       "      <td>2</td>\n",
       "      <td>64</td>\n",
       "    </tr>\n",
       "  </tbody>\n",
       "</table>\n",
       "</div>"
      ],
      "text/plain": [
       "                        status_id  \\\n",
       "0  232633627068_10155689734022069   \n",
       "1  232633627068_10155689752042069   \n",
       "2  232633627068_10155689484782069   \n",
       "3  232633627068_10155689727032069   \n",
       "4  232633627068_10155689539617069   \n",
       "\n",
       "                                      status_message  \\\n",
       "0        加油！放寬心才能走出來\\n　\\n#金曲男星 #蛋堡 #邱振熙 蛋堡 Soft Lipa   \n",
       "1  #最新 趕快清查把該抓的抓起來！\\n　\\n相關→ 自殺副局長12年前與晶鑽搭上線　多次提供開...   \n",
       "2  #慎入 這就跟把雞排放進我嘴裡又不讓我咬一樣呀...... #宅編\\n　　\\n完整 #動新聞...   \n",
       "3  距離周末前往台中還有...好久 #隨編\\n　\\n#正妹 #紅豆餅妹 #朝聖啦 #蕭卉君 \\n...   \n",
       "4  Betty批「這種人根本不配當攝影師，很沒道德」\\n　　\\n【完整 #動新聞】大尺度女模控無...   \n",
       "\n",
       "                   link_name status_type  \\\n",
       "0     【壹週刊】​金曲男星進精神療養院　曾入圍歌王        link   \n",
       "1  【晶鑽弊案】北市高官也涉貪　建管處前主秘遭搜索約談        link   \n",
       "2    【大咬片】馴獸師把頭放進鱷魚嘴　被咬得血流滿面       video   \n",
       "3       清新紅豆餅妹藏逆天「胸器」！網友揪朝聖啦        link   \n",
       "4        大尺度女模控無良攝影師　外流露點走光照       video   \n",
       "\n",
       "                                         status_link     status_published  \\\n",
       "0  https://www.facebook.com/232633627068/posts/10...  2017-03-14 18:20:02   \n",
       "1  https://www.facebook.com/232633627068/posts/10...  2017-03-14 17:59:25   \n",
       "2  https://www.facebook.com/232633627068/posts/10...  2017-03-14 17:50:00   \n",
       "3  https://www.facebook.com/232633627068/posts/10...  2017-03-14 17:40:00   \n",
       "4  https://www.facebook.com/232633627068/posts/10...  2017-03-14 17:30:00   \n",
       "\n",
       "   num_reactions  num_comments  num_shares  num_likes  num_loves  num_wows  \\\n",
       "0            275             3           0        240         13        14   \n",
       "1            157             8           0        141          3         2   \n",
       "2            269            24           4        210          4        29   \n",
       "3           2904           109         144       2802         38        44   \n",
       "4            595            18           7        496          8        21   \n",
       "\n",
       "   num_hahas  num_sads  num_angrys  \n",
       "0          3         4           1  \n",
       "1          7         0           4  \n",
       "2         24         2           0  \n",
       "3         18         1           1  \n",
       "4          4         2          64  "
      ]
     },
     "execution_count": 10,
     "metadata": {},
     "output_type": "execute_result"
    }
   ],
   "source": [
    "df.head()"
   ]
  },
  {
   "cell_type": "code",
   "execution_count": 11,
   "metadata": {
    "collapsed": false,
    "deletable": true,
    "editable": true
   },
   "outputs": [],
   "source": [
    "path = 'post/'+page_id+'_post.csv'\n",
    "df.to_csv(path,index=False,encoding='utf8')"
   ]
  },
  {
   "cell_type": "markdown",
   "metadata": {
    "collapsed": false,
    "deletable": true,
    "editable": true
   },
   "source": [
    "![title](https://raw.githubusercontent.com/wutienyang/facebook_fanpage_analysis/master/image/Selection_012.png)  \n",
    "## reference\n",
    "http://minimaxir.com/2015/07/facebook-scraper/"
   ]
  },
  {
   "cell_type": "code",
   "execution_count": null,
   "metadata": {
    "collapsed": true,
    "deletable": true,
    "editable": true
   },
   "outputs": [],
   "source": []
  }
 ],
 "metadata": {
  "kernelspec": {
   "display_name": "Python 2",
   "language": "python",
   "name": "python2"
  },
  "language_info": {
   "codemirror_mode": {
    "name": "ipython",
    "version": 2
   },
   "file_extension": ".py",
   "mimetype": "text/x-python",
   "name": "python",
   "nbconvert_exporter": "python",
   "pygments_lexer": "ipython2",
   "version": "2.7.13"
  }
 },
 "nbformat": 4,
 "nbformat_minor": 0
}
