{
 "cells": [
  {
   "cell_type": "markdown",
   "metadata": {
    "deletable": true,
    "editable": true
   },
   "source": [
    "# 如何預測粉絲頁發文獲得讚數?"
   ]
  },
  {
   "cell_type": "markdown",
   "metadata": {
    "deletable": true,
    "editable": true
   },
   "source": [
    "當我們爬完和分析完資料後,可不可以做更進一步的應用呢？  \n",
    "sure! 接下來就要來預測某篇post的按讚程度,假設我們知道post內容,發文類型,發文時間點,  \n",
    "我們能不能預測這篇post能得到多少讚呢？ 若要預測得到多少讚的話,這就是一個regression problem  \n",
    "但我們先簡單一點,把它當成一個classification problem,  \n",
    "要如何作到這一點呢？  \n",
    "我們把reaction高於中位數的label成1,低於的label成0,去預測某篇post是0或是1就行了  "
   ]
  },
  {
   "cell_type": "code",
   "execution_count": 1,
   "metadata": {
    "collapsed": false,
    "deletable": true,
    "editable": true
   },
   "outputs": [],
   "source": [
    "import pandas as pd\n",
    "import operator\n",
    "import datetime\n",
    "import numpy as np"
   ]
  },
  {
   "cell_type": "markdown",
   "metadata": {
    "deletable": true,
    "editable": true
   },
   "source": [
    "# Data Porcessing"
   ]
  },
  {
   "cell_type": "markdown",
   "metadata": {
    "deletable": true,
    "editable": true
   },
   "source": [
    "一樣先把資料讀進來"
   ]
  },
  {
   "cell_type": "code",
   "execution_count": 2,
   "metadata": {
    "collapsed": false,
    "deletable": true,
    "editable": true
   },
   "outputs": [],
   "source": [
    "page_id = \"appledaily.tw\"\n",
    "\n",
    "path = 'post/'+page_id+'_post.csv'\n",
    "df = pd.read_csv(path, encoding='utf8')"
   ]
  },
  {
   "cell_type": "markdown",
   "metadata": {
    "deletable": true,
    "editable": true
   },
   "source": [
    "看一看前五筆"
   ]
  },
  {
   "cell_type": "code",
   "execution_count": 3,
   "metadata": {
    "collapsed": false,
    "deletable": true,
    "editable": true,
    "scrolled": true
   },
   "outputs": [
    {
     "data": {
      "text/html": [
       "<div>\n",
       "<table border=\"1\" class=\"dataframe\">\n",
       "  <thead>\n",
       "    <tr style=\"text-align: right;\">\n",
       "      <th></th>\n",
       "      <th>status_id</th>\n",
       "      <th>status_message</th>\n",
       "      <th>link_name</th>\n",
       "      <th>status_type</th>\n",
       "      <th>status_link</th>\n",
       "      <th>status_published</th>\n",
       "      <th>num_reactions</th>\n",
       "      <th>num_comments</th>\n",
       "      <th>num_shares</th>\n",
       "      <th>num_likes</th>\n",
       "      <th>num_loves</th>\n",
       "      <th>num_wows</th>\n",
       "      <th>num_hahas</th>\n",
       "      <th>num_sads</th>\n",
       "      <th>num_angrys</th>\n",
       "    </tr>\n",
       "  </thead>\n",
       "  <tbody>\n",
       "    <tr>\n",
       "      <th>0</th>\n",
       "      <td>232633627068_10155689734022069</td>\n",
       "      <td>加油！放寬心才能走出來\\n　\\n#金曲男星 #蛋堡 #邱振熙 蛋堡 Soft Lipa</td>\n",
       "      <td>【壹週刊】​金曲男星進精神療養院　曾入圍歌王</td>\n",
       "      <td>link</td>\n",
       "      <td>https://www.facebook.com/232633627068/posts/10...</td>\n",
       "      <td>2017-03-14 18:20:02</td>\n",
       "      <td>275</td>\n",
       "      <td>3</td>\n",
       "      <td>0</td>\n",
       "      <td>240</td>\n",
       "      <td>13</td>\n",
       "      <td>14</td>\n",
       "      <td>3</td>\n",
       "      <td>4</td>\n",
       "      <td>1</td>\n",
       "    </tr>\n",
       "    <tr>\n",
       "      <th>1</th>\n",
       "      <td>232633627068_10155689752042069</td>\n",
       "      <td>#最新 趕快清查把該抓的抓起來！\\n　\\n相關→ 自殺副局長12年前與晶鑽搭上線　多次提供開...</td>\n",
       "      <td>【晶鑽弊案】北市高官也涉貪　建管處前主秘遭搜索約談</td>\n",
       "      <td>link</td>\n",
       "      <td>https://www.facebook.com/232633627068/posts/10...</td>\n",
       "      <td>2017-03-14 17:59:25</td>\n",
       "      <td>157</td>\n",
       "      <td>8</td>\n",
       "      <td>0</td>\n",
       "      <td>141</td>\n",
       "      <td>3</td>\n",
       "      <td>2</td>\n",
       "      <td>7</td>\n",
       "      <td>0</td>\n",
       "      <td>4</td>\n",
       "    </tr>\n",
       "    <tr>\n",
       "      <th>2</th>\n",
       "      <td>232633627068_10155689484782069</td>\n",
       "      <td>#慎入 這就跟把雞排放進我嘴裡又不讓我咬一樣呀...... #宅編\\n　　\\n完整 #動新聞...</td>\n",
       "      <td>【大咬片】馴獸師把頭放進鱷魚嘴　被咬得血流滿面</td>\n",
       "      <td>video</td>\n",
       "      <td>https://www.facebook.com/232633627068/posts/10...</td>\n",
       "      <td>2017-03-14 17:50:00</td>\n",
       "      <td>269</td>\n",
       "      <td>24</td>\n",
       "      <td>4</td>\n",
       "      <td>210</td>\n",
       "      <td>4</td>\n",
       "      <td>29</td>\n",
       "      <td>24</td>\n",
       "      <td>2</td>\n",
       "      <td>0</td>\n",
       "    </tr>\n",
       "    <tr>\n",
       "      <th>3</th>\n",
       "      <td>232633627068_10155689727032069</td>\n",
       "      <td>距離周末前往台中還有...好久 #隨編\\n　\\n#正妹 #紅豆餅妹 #朝聖啦 #蕭卉君 \\n...</td>\n",
       "      <td>清新紅豆餅妹藏逆天「胸器」！網友揪朝聖啦</td>\n",
       "      <td>link</td>\n",
       "      <td>https://www.facebook.com/232633627068/posts/10...</td>\n",
       "      <td>2017-03-14 17:40:00</td>\n",
       "      <td>2904</td>\n",
       "      <td>109</td>\n",
       "      <td>144</td>\n",
       "      <td>2802</td>\n",
       "      <td>38</td>\n",
       "      <td>44</td>\n",
       "      <td>18</td>\n",
       "      <td>1</td>\n",
       "      <td>1</td>\n",
       "    </tr>\n",
       "    <tr>\n",
       "      <th>4</th>\n",
       "      <td>232633627068_10155689539617069</td>\n",
       "      <td>Betty批「這種人根本不配當攝影師，很沒道德」\\n　　\\n【完整 #動新聞】大尺度女模控無...</td>\n",
       "      <td>大尺度女模控無良攝影師　外流露點走光照</td>\n",
       "      <td>video</td>\n",
       "      <td>https://www.facebook.com/232633627068/posts/10...</td>\n",
       "      <td>2017-03-14 17:30:00</td>\n",
       "      <td>595</td>\n",
       "      <td>18</td>\n",
       "      <td>7</td>\n",
       "      <td>496</td>\n",
       "      <td>8</td>\n",
       "      <td>21</td>\n",
       "      <td>4</td>\n",
       "      <td>2</td>\n",
       "      <td>64</td>\n",
       "    </tr>\n",
       "  </tbody>\n",
       "</table>\n",
       "</div>"
      ],
      "text/plain": [
       "                        status_id  \\\n",
       "0  232633627068_10155689734022069   \n",
       "1  232633627068_10155689752042069   \n",
       "2  232633627068_10155689484782069   \n",
       "3  232633627068_10155689727032069   \n",
       "4  232633627068_10155689539617069   \n",
       "\n",
       "                                      status_message  \\\n",
       "0        加油！放寬心才能走出來\\n　\\n#金曲男星 #蛋堡 #邱振熙 蛋堡 Soft Lipa   \n",
       "1  #最新 趕快清查把該抓的抓起來！\\n　\\n相關→ 自殺副局長12年前與晶鑽搭上線　多次提供開...   \n",
       "2  #慎入 這就跟把雞排放進我嘴裡又不讓我咬一樣呀...... #宅編\\n　　\\n完整 #動新聞...   \n",
       "3  距離周末前往台中還有...好久 #隨編\\n　\\n#正妹 #紅豆餅妹 #朝聖啦 #蕭卉君 \\n...   \n",
       "4  Betty批「這種人根本不配當攝影師，很沒道德」\\n　　\\n【完整 #動新聞】大尺度女模控無...   \n",
       "\n",
       "                   link_name status_type  \\\n",
       "0     【壹週刊】​金曲男星進精神療養院　曾入圍歌王        link   \n",
       "1  【晶鑽弊案】北市高官也涉貪　建管處前主秘遭搜索約談        link   \n",
       "2    【大咬片】馴獸師把頭放進鱷魚嘴　被咬得血流滿面       video   \n",
       "3       清新紅豆餅妹藏逆天「胸器」！網友揪朝聖啦        link   \n",
       "4        大尺度女模控無良攝影師　外流露點走光照       video   \n",
       "\n",
       "                                         status_link     status_published  \\\n",
       "0  https://www.facebook.com/232633627068/posts/10...  2017-03-14 18:20:02   \n",
       "1  https://www.facebook.com/232633627068/posts/10...  2017-03-14 17:59:25   \n",
       "2  https://www.facebook.com/232633627068/posts/10...  2017-03-14 17:50:00   \n",
       "3  https://www.facebook.com/232633627068/posts/10...  2017-03-14 17:40:00   \n",
       "4  https://www.facebook.com/232633627068/posts/10...  2017-03-14 17:30:00   \n",
       "\n",
       "   num_reactions  num_comments  num_shares  num_likes  num_loves  num_wows  \\\n",
       "0            275             3           0        240         13        14   \n",
       "1            157             8           0        141          3         2   \n",
       "2            269            24           4        210          4        29   \n",
       "3           2904           109         144       2802         38        44   \n",
       "4            595            18           7        496          8        21   \n",
       "\n",
       "   num_hahas  num_sads  num_angrys  \n",
       "0          3         4           1  \n",
       "1          7         0           4  \n",
       "2         24         2           0  \n",
       "3         18         1           1  \n",
       "4          4         2          64  "
      ]
     },
     "execution_count": 3,
     "metadata": {},
     "output_type": "execute_result"
    }
   ],
   "source": [
    "df.head()"
   ]
  },
  {
   "cell_type": "code",
   "execution_count": 4,
   "metadata": {
    "collapsed": false,
    "deletable": true,
    "editable": true
   },
   "outputs": [
    {
     "data": {
      "text/plain": [
       "5234"
      ]
     },
     "execution_count": 4,
     "metadata": {},
     "output_type": "execute_result"
    }
   ],
   "source": [
    "len(df)"
   ]
  },
  {
   "cell_type": "markdown",
   "metadata": {
    "deletable": true,
    "editable": true
   },
   "source": [
    "一共5234筆發文"
   ]
  },
  {
   "cell_type": "markdown",
   "metadata": {
    "deletable": true,
    "editable": true
   },
   "source": [
    "### Check missing\n",
    "看看個欄位缺失的值"
   ]
  },
  {
   "cell_type": "code",
   "execution_count": 5,
   "metadata": {
    "collapsed": false,
    "deletable": true,
    "editable": true
   },
   "outputs": [
    {
     "data": {
      "text/plain": [
       "status_id             0\n",
       "status_message      150\n",
       "link_name           147\n",
       "status_type           0\n",
       "status_link           0\n",
       "status_published      0\n",
       "num_reactions         0\n",
       "num_comments          0\n",
       "num_shares            0\n",
       "num_likes             0\n",
       "num_loves             0\n",
       "num_wows              0\n",
       "num_hahas             0\n",
       "num_sads              0\n",
       "num_angrys            0\n",
       "dtype: int64"
      ]
     },
     "execution_count": 5,
     "metadata": {},
     "output_type": "execute_result"
    }
   ],
   "source": [
    "df.apply(lambda x: sum(x.isnull()))"
   ]
  },
  {
   "cell_type": "markdown",
   "metadata": {
    "deletable": true,
    "editable": true
   },
   "source": [
    "把status_message為空值的地方拿掉"
   ]
  },
  {
   "cell_type": "code",
   "execution_count": 6,
   "metadata": {
    "collapsed": true,
    "deletable": true,
    "editable": true
   },
   "outputs": [],
   "source": [
    "df = df[df['status_message'].notnull()].reindex()"
   ]
  },
  {
   "cell_type": "markdown",
   "metadata": {
    "deletable": true,
    "editable": true
   },
   "source": [
    "再把reactions等於0的去掉"
   ]
  },
  {
   "cell_type": "code",
   "execution_count": 7,
   "metadata": {
    "collapsed": true,
    "deletable": true,
    "editable": true
   },
   "outputs": [],
   "source": [
    "df = df[df['num_reactions']!=0].reindex()"
   ]
  },
  {
   "cell_type": "code",
   "execution_count": 8,
   "metadata": {
    "collapsed": false,
    "deletable": true,
    "editable": true
   },
   "outputs": [
    {
     "data": {
      "text/plain": [
       "5061"
      ]
     },
     "execution_count": 8,
     "metadata": {},
     "output_type": "execute_result"
    }
   ],
   "source": [
    "len(df)"
   ]
  },
  {
   "cell_type": "markdown",
   "metadata": {
    "deletable": true,
    "editable": true
   },
   "source": [
    "剩下5061篇發文"
   ]
  },
  {
   "cell_type": "markdown",
   "metadata": {
    "deletable": true,
    "editable": true
   },
   "source": [
    "一樣處理時間,新增星期幾和單日第幾時po文的欄位"
   ]
  },
  {
   "cell_type": "code",
   "execution_count": 9,
   "metadata": {
    "collapsed": false,
    "deletable": true,
    "editable": true
   },
   "outputs": [],
   "source": [
    "df['datetime'] = df['status_published'].apply(lambda x: datetime.datetime.strptime(x,'%Y-%m-%d %H:%M:%S'))\n",
    "df['weekday'] = df['datetime'].apply(lambda x: x.weekday_name)\n",
    "df['hour'] = df['datetime'].apply(lambda x:  x.hour)"
   ]
  },
  {
   "cell_type": "markdown",
   "metadata": {
    "deletable": true,
    "editable": true
   },
   "source": [
    "### Feature Engineering"
   ]
  },
  {
   "cell_type": "markdown",
   "metadata": {
    "collapsed": true,
    "deletable": true,
    "editable": true
   },
   "source": [
    "status_type,weekday必須經過One-Hot Coding的處理,因為  \n",
    "假設有一個feature是 地區：[\"Europe\"，\"US\"，\"Asia\"],我們先把它數字化[2,1,0]  \n",
    "但轉成數字後就存在1>0,2>0這種關係,但是US不會大於Asia,所以還必須經過別種處理方式  \n",
    "要把一維的地區feature轉成三維的地區feature,變成是否就可以用[1,0]表示  "
   ]
  },
  {
   "cell_type": "code",
   "execution_count": 10,
   "metadata": {
    "collapsed": false,
    "deletable": true,
    "editable": true
   },
   "outputs": [
    {
     "data": {
      "text/plain": [
       "0    EuropeS\n",
       "1       Asia\n",
       "2     Europe\n",
       "3         US\n",
       "4       Asia\n",
       "Name: location, dtype: object"
      ]
     },
     "execution_count": 10,
     "metadata": {},
     "output_type": "execute_result"
    }
   ],
   "source": [
    "pd.Series(data = [\"EuropeS\",\"Asia\",\"Europe\",\"US\",\"Asia\"], name = 'location')"
   ]
  },
  {
   "cell_type": "code",
   "execution_count": 11,
   "metadata": {
    "collapsed": false,
    "deletable": true,
    "editable": true
   },
   "outputs": [
    {
     "data": {
      "text/plain": [
       "array([1, 0, 1, 2, 0])"
      ]
     },
     "execution_count": 11,
     "metadata": {},
     "output_type": "execute_result"
    }
   ],
   "source": [
    "# Numerical Coding\n",
    "from sklearn.preprocessing import LabelEncoder\n",
    "\n",
    "le = LabelEncoder()\n",
    "le.fit_transform(pd.Series(data = [\"Europe\",\"Asia\",\"Europe\",\"US\",\"Asia\"], name = 'location'))"
   ]
  },
  {
   "cell_type": "code",
   "execution_count": 12,
   "metadata": {
    "collapsed": false,
    "deletable": true,
    "editable": true
   },
   "outputs": [
    {
     "data": {
      "text/html": [
       "<div>\n",
       "<table border=\"1\" class=\"dataframe\">\n",
       "  <thead>\n",
       "    <tr style=\"text-align: right;\">\n",
       "      <th></th>\n",
       "      <th>0</th>\n",
       "      <th>1</th>\n",
       "      <th>2</th>\n",
       "    </tr>\n",
       "  </thead>\n",
       "  <tbody>\n",
       "    <tr>\n",
       "      <th>0</th>\n",
       "      <td>0</td>\n",
       "      <td>1</td>\n",
       "      <td>0</td>\n",
       "    </tr>\n",
       "    <tr>\n",
       "      <th>1</th>\n",
       "      <td>1</td>\n",
       "      <td>0</td>\n",
       "      <td>0</td>\n",
       "    </tr>\n",
       "    <tr>\n",
       "      <th>2</th>\n",
       "      <td>0</td>\n",
       "      <td>1</td>\n",
       "      <td>0</td>\n",
       "    </tr>\n",
       "    <tr>\n",
       "      <th>3</th>\n",
       "      <td>0</td>\n",
       "      <td>0</td>\n",
       "      <td>1</td>\n",
       "    </tr>\n",
       "    <tr>\n",
       "      <th>4</th>\n",
       "      <td>1</td>\n",
       "      <td>0</td>\n",
       "      <td>0</td>\n",
       "    </tr>\n",
       "  </tbody>\n",
       "</table>\n",
       "</div>"
      ],
      "text/plain": [
       "   0  1  2\n",
       "0  0  1  0\n",
       "1  1  0  0\n",
       "2  0  1  0\n",
       "3  0  0  1\n",
       "4  1  0  0"
      ]
     },
     "execution_count": 12,
     "metadata": {},
     "output_type": "execute_result"
    }
   ],
   "source": [
    "# One-Hot Coding\n",
    "pd.get_dummies(le.fit_transform(pd.Series(data = [\"Europe\",\"Asia\",\"Europe\",\"US\",\"Asia\"], name = 'location')))"
   ]
  },
  {
   "cell_type": "markdown",
   "metadata": {
    "collapsed": true,
    "deletable": true,
    "editable": true
   },
   "source": [
    "### 處理 feature (status_type,weekday)\n",
    "所以要把status_type,weekday經過 Numerical Coding 和 One-Hot Coding"
   ]
  },
  {
   "cell_type": "code",
   "execution_count": 13,
   "metadata": {
    "collapsed": false,
    "deletable": true,
    "editable": true
   },
   "outputs": [],
   "source": [
    "var_to_encode = ['status_type','weekday']\n",
    "for col in var_to_encode:\n",
    "    df[col] = le.fit_transform(df[col])\n",
    "df = pd.get_dummies(df, columns=var_to_encode+['hour'])"
   ]
  },
  {
   "cell_type": "markdown",
   "metadata": {
    "collapsed": true,
    "deletable": true,
    "editable": true
   },
   "source": [
    "### 處理 label\n",
    "把reaction大於中位數(1243)label成1,其餘label成0"
   ]
  },
  {
   "cell_type": "code",
   "execution_count": 14,
   "metadata": {
    "collapsed": false,
    "deletable": true,
    "editable": true
   },
   "outputs": [],
   "source": [
    "y = df['num_reactions']"
   ]
  },
  {
   "cell_type": "code",
   "execution_count": 15,
   "metadata": {
    "collapsed": false,
    "deletable": true,
    "editable": true
   },
   "outputs": [
    {
     "data": {
      "text/plain": [
       "count      5061.000000\n",
       "mean       3151.130409\n",
       "std        8860.404063\n",
       "min           1.000000\n",
       "25%         558.000000\n",
       "50%        1243.000000\n",
       "75%        3049.000000\n",
       "max      327177.000000\n",
       "Name: num_reactions, dtype: float64"
      ]
     },
     "execution_count": 15,
     "metadata": {},
     "output_type": "execute_result"
    }
   ],
   "source": [
    "y.describe()"
   ]
  },
  {
   "cell_type": "code",
   "execution_count": 16,
   "metadata": {
    "collapsed": false,
    "deletable": true,
    "editable": true
   },
   "outputs": [],
   "source": [
    "y = df['num_reactions'].apply(lambda x: 1 if x > 1243 else 0)"
   ]
  },
  {
   "cell_type": "markdown",
   "metadata": {
    "deletable": true,
    "editable": true
   },
   "source": [
    "### 處理 feature (status_message)\n",
    "\n",
    "接下來要建立詞向量,什麼是詞向量  \n",
    "舉例 總共有三篇文章  \n",
    "第一篇 我想吃蘋果 提取關鍵字後 我,吃,蘋果  \n",
    "第二篇 我想吃香蕉 提取關鍵字後 我,吃,香蕉  \n",
    "第三篇 我想吃火鍋 提取關鍵字後 我,吃,火鍋  \n",
    "詞向量就是  \n",
    "  \n",
    "我 | 吃 | 蘋果 | 香蕉 | 火鍋\n",
    "--- | --- | --- | --- | ---\n",
    "1 | 1 | 1 | 0 | 0\n",
    "1 | 1 | 0 | 1 | 0\n",
    "1 | 1 | 0 | 0 | 1\n",
    "  \n",
    "所以接下來就建立發文內容的詞向量"
   ]
  },
  {
   "cell_type": "code",
   "execution_count": 17,
   "metadata": {
    "collapsed": false,
    "deletable": true,
    "editable": true
   },
   "outputs": [],
   "source": [
    "# 載入繁體詞庫\n",
    "import jieba.analyse\n",
    "\n",
    "# 安裝jieba套件的時候,就有繁體詞庫\n",
    "jieba.set_dictionary('/home/wy/anaconda3/envs/python3/lib/python3.6/site-packages/jieba/extra_dict/dict.txt.big')\n",
    "\n",
    "def jieba_extract(message_list):\n",
    "    word_count = {}\n",
    "    for message in message_list:\n",
    "        seg_list = jieba.analyse.extract_tags(message, topK=120)\n",
    "        \n",
    "        for seg in seg_list:\n",
    "            if not seg in word_count:\n",
    "                word_count[seg] = 1\n",
    "            else:\n",
    "                word_count[seg] += 1\n",
    "\n",
    "    sorted_word_count = sorted(word_count.items(), key=operator.itemgetter(1))\n",
    "    sorted_word_count.reverse()\n",
    "    return sorted_word_count"
   ]
  },
  {
   "cell_type": "code",
   "execution_count": 18,
   "metadata": {
    "collapsed": false,
    "deletable": true,
    "editable": true,
    "scrolled": true
   },
   "outputs": [
    {
     "name": "stderr",
     "output_type": "stream",
     "text": [
      "Building prefix dict from /home/wy/anaconda3/envs/python3/lib/python3.6/site-packages/jieba/extra_dict/dict.txt.big ...\n",
      "Loading model from cache /tmp/jieba.ue56a5cc1e0fa654d6fb1c49f7279c0f2.cache\n",
      "Loading model cost 1.258 seconds.\n",
      "Prefix dict has been built succesfully.\n"
     ]
    }
   ],
   "source": [
    "sorted_word_count = jieba_extract(list(df['status_message']))\n",
    "word = [one[0] for one in sorted_word_count]"
   ]
  },
  {
   "cell_type": "code",
   "execution_count": 19,
   "metadata": {
    "collapsed": true,
    "deletable": true,
    "editable": true
   },
   "outputs": [],
   "source": [
    "def get_word_vector(message):\n",
    "    v = np.zeros(len(word))\n",
    "    v_word = jieba.analyse.extract_tags(message, topK=120)\n",
    "    for w in v_word:\n",
    "        v[words.index(w)] = 1\n",
    "    return v"
   ]
  },
  {
   "cell_type": "code",
   "execution_count": 20,
   "metadata": {
    "collapsed": false,
    "deletable": true,
    "editable": true
   },
   "outputs": [],
   "source": [
    "sorted_word_count = jieba_extract(list(df['status_message']))\n",
    "words = [one[0] for one in sorted_word_count]\n",
    "\n",
    "word_vector = [get_word_vector(one) for one in df['status_message']]\n",
    "word_vector = np.array(word_vector)"
   ]
  },
  {
   "cell_type": "code",
   "execution_count": 21,
   "metadata": {
    "collapsed": false,
    "deletable": true,
    "editable": true
   },
   "outputs": [
    {
     "data": {
      "text/plain": [
       "array([[ 0.,  0.,  0., ...,  1.,  1.,  1.],\n",
       "       [ 1.,  1.,  1., ...,  0.,  0.,  0.],\n",
       "       [ 1.,  1.,  1., ...,  0.,  0.,  0.],\n",
       "       ..., \n",
       "       [ 0.,  0.,  0., ...,  0.,  0.,  0.],\n",
       "       [ 1.,  1.,  1., ...,  0.,  0.,  0.],\n",
       "       [ 0.,  0.,  0., ...,  0.,  0.,  0.]])"
      ]
     },
     "execution_count": 21,
     "metadata": {},
     "output_type": "execute_result"
    }
   ],
   "source": [
    "word_vector.shape\n",
    "word_vector"
   ]
  },
  {
   "cell_type": "markdown",
   "metadata": {
    "deletable": true,
    "editable": true
   },
   "source": [
    "代表有5061篇發文和27518個詞"
   ]
  },
  {
   "cell_type": "code",
   "execution_count": 22,
   "metadata": {
    "collapsed": false,
    "deletable": true,
    "editable": true
   },
   "outputs": [
    {
     "data": {
      "text/plain": [
       "Index(['status_id', 'status_message', 'link_name', 'status_link',\n",
       "       'status_published', 'num_reactions', 'num_comments', 'num_shares',\n",
       "       'num_likes', 'num_loves', 'num_wows', 'num_hahas', 'num_sads',\n",
       "       'num_angrys', 'datetime', 'status_type_0', 'status_type_1',\n",
       "       'status_type_2', 'status_type_3', 'weekday_0', 'weekday_1', 'weekday_2',\n",
       "       'weekday_3', 'weekday_4', 'weekday_5', 'weekday_6', 'hour_0', 'hour_1',\n",
       "       'hour_2', 'hour_3', 'hour_4', 'hour_5', 'hour_6', 'hour_7', 'hour_8',\n",
       "       'hour_9', 'hour_10', 'hour_11', 'hour_12', 'hour_13', 'hour_14',\n",
       "       'hour_15', 'hour_16', 'hour_17', 'hour_18', 'hour_19', 'hour_20',\n",
       "       'hour_21', 'hour_22', 'hour_23'],\n",
       "      dtype='object')"
      ]
     },
     "execution_count": 22,
     "metadata": {},
     "output_type": "execute_result"
    }
   ],
   "source": [
    "df.columns"
   ]
  },
  {
   "cell_type": "markdown",
   "metadata": {
    "deletable": true,
    "editable": true
   },
   "source": [
    "看一下資料的欄位,我們只能使用status_message,status_type,weekday,hour  \n",
    "因為 num_reactions 和剩下的欄位都有關係(分享數多那按讚也會多 blabla)所以不能拿進來用  \n",
    "status_type,weekday,hour 已經經過One-Hot Coding處理,才會有這麼多欄位  "
   ]
  },
  {
   "cell_type": "code",
   "execution_count": 23,
   "metadata": {
    "collapsed": false,
    "deletable": true,
    "editable": true
   },
   "outputs": [
    {
     "data": {
      "text/plain": [
       "array([[1, 0, 0, ..., 0, 0, 0],\n",
       "       [1, 0, 0, ..., 0, 0, 0],\n",
       "       [0, 0, 0, ..., 0, 0, 0],\n",
       "       ..., \n",
       "       [1, 0, 0, ..., 0, 0, 0],\n",
       "       [1, 0, 0, ..., 0, 0, 0],\n",
       "       [1, 0, 0, ..., 0, 0, 0]], dtype=uint8)"
      ]
     },
     "execution_count": 23,
     "metadata": {},
     "output_type": "execute_result"
    }
   ],
   "source": [
    "features = df[['status_type_0', 'status_type_1',\n",
    "       'status_type_2', 'status_type_3', 'weekday_0', 'weekday_1', 'weekday_2',\n",
    "       'weekday_3', 'weekday_4', 'weekday_5', 'weekday_6', 'hour_0', 'hour_1',\n",
    "       'hour_2', 'hour_3', 'hour_4', 'hour_5', 'hour_6', 'hour_7', 'hour_8',\n",
    "       'hour_9', 'hour_10', 'hour_11', 'hour_12', 'hour_13', 'hour_14',\n",
    "       'hour_15', 'hour_16', 'hour_17', 'hour_18', 'hour_19', 'hour_20',\n",
    "       'hour_21', 'hour_22', 'hour_23']].as_matrix()\n",
    "features"
   ]
  },
  {
   "cell_type": "markdown",
   "metadata": {
    "collapsed": true,
    "deletable": true,
    "editable": true
   },
   "source": [
    "把詞向量的feature和其他feature結合在一起"
   ]
  },
  {
   "cell_type": "code",
   "execution_count": 24,
   "metadata": {
    "collapsed": false,
    "deletable": true,
    "editable": true
   },
   "outputs": [],
   "source": [
    "X = np.concatenate((features, word_vector), axis=1)"
   ]
  },
  {
   "cell_type": "code",
   "execution_count": 25,
   "metadata": {
    "collapsed": false,
    "deletable": true,
    "editable": true
   },
   "outputs": [
    {
     "data": {
      "text/plain": [
       "array([[ 1.,  0.,  0., ...,  1.,  1.,  1.],\n",
       "       [ 1.,  0.,  0., ...,  0.,  0.,  0.],\n",
       "       [ 0.,  0.,  0., ...,  0.,  0.,  0.],\n",
       "       ..., \n",
       "       [ 1.,  0.,  0., ...,  0.,  0.,  0.],\n",
       "       [ 1.,  0.,  0., ...,  0.,  0.,  0.],\n",
       "       [ 1.,  0.,  0., ...,  0.,  0.,  0.]])"
      ]
     },
     "execution_count": 25,
     "metadata": {},
     "output_type": "execute_result"
    }
   ],
   "source": [
    "X"
   ]
  },
  {
   "cell_type": "markdown",
   "metadata": {
    "deletable": true,
    "editable": true
   },
   "source": [
    "處理後的feature 維度和數量"
   ]
  },
  {
   "cell_type": "code",
   "execution_count": 26,
   "metadata": {
    "collapsed": false,
    "deletable": true,
    "editable": true
   },
   "outputs": [
    {
     "data": {
      "text/plain": [
       "(5061, 27553)"
      ]
     },
     "execution_count": 26,
     "metadata": {},
     "output_type": "execute_result"
    }
   ],
   "source": [
    "X.shape"
   ]
  },
  {
   "cell_type": "markdown",
   "metadata": {
    "deletable": true,
    "editable": true
   },
   "source": [
    "處理後的label 數量"
   ]
  },
  {
   "cell_type": "code",
   "execution_count": 27,
   "metadata": {
    "collapsed": false,
    "deletable": true,
    "editable": true
   },
   "outputs": [
    {
     "data": {
      "text/plain": [
       "(5061,)"
      ]
     },
     "execution_count": 27,
     "metadata": {},
     "output_type": "execute_result"
    }
   ],
   "source": [
    "y.shape"
   ]
  },
  {
   "cell_type": "markdown",
   "metadata": {
    "deletable": true,
    "editable": true
   },
   "source": [
    "接下剌我們要使用的model是logistic regression  \n",
    "logistic regression : 是機器學習分類算法的其中一,其算法作為一個二分類算法，主要解決的是線性可分的問題\n",
    "\n",
    "方程式 : \n",
    "$$\n",
    "h(x)=\\frac{1}{1+exp(-w^Tx)}\n",
    "$$\n",
    "\n",
    "假設我們可以知道一個病人的性別,年齡,身高,體重,血壓...為了要計算他得到癌症的機率,可以將這幾個特徵做加權求和  \n",
    "x代表每個特徵,w代表每個特徵相對應的權重,s為加權求和的值  \n",
    "$$\n",
    "\\color{purple}{s}=\\sum_{i={0}}^d{w_i}{x_i}=w^Tx\n",
    "$$\n",
    "\n",
    "但是算出來的s範圍是負無限大到正無限大,我們會希望得到一個機率估計的值0到1,所以要把s經過sigmoid函數${\\theta}$處理  \n",
    "$$\n",
    "{\\theta}({s})=\\frac{e^{s}}{1+e^{s}}=\\frac{1}{1+e^{-s}}\n",
    "$$\n",
    "![sigmoid](http://beader.me/imgs/logistic-regression/sigmoid_function.png)\n",
    "\n",
    "綜合以上由於我們只要可以知道x和w,就可以進行預測了!  \n",
    "x是我們已經知道的,但是要如何得到w呢?"
   ]
  },
  {
   "cell_type": "markdown",
   "metadata": {
    "deletable": true,
    "editable": true
   },
   "source": [
    "我們先需要也要有一個可以衡量這組w好不好的函數稱為cost function  \n",
    "這邊所使用的誤差函數為 cross entropy error (直接給方程式,就不附推導過程)  \n",
    "y為train data中的label,1就是得癌症,0就是沒得  \n",
    "$$\n",
    "err({w},x,y)=ln(1+exp(-y{w}x))\n",
    "$$\n",
    "\n",
    "所以cost function為\n",
    "$$\n",
    "E({w})=\\frac{1}{N}\\sum_{n=1}^{N}ln(1+exp(-y_n{w}^Tx_n))\n",
    "$$  \n",
    "  \n",
    "有了cost function就可以用梯度下降法(Gradient Descent)去尋找適合的w,找到w後就可以進行預測了!"
   ]
  },
  {
   "cell_type": "markdown",
   "metadata": {
    "collapsed": true,
    "deletable": true,
    "editable": true
   },
   "source": [
    "### predict\n",
    "套入scikit的LogisticRegression,並用cross validation去算平均準確率  \n",
    "\n",
    "cross validation :\n",
    "![cross validation](http://blog-test.goldenhelix.com/wp-content/uploads/2015/04/B-fig-1.jpg)  \n",
    "假設cv=5 就是把整組資料分成五份,其中一份當作testing data,剩下四份當作training data,然後輪流做五次  \n",
    "讓每一份都會輪到當成testing data,最後把五次的結果平均,算出平均準確率"
   ]
  },
  {
   "cell_type": "code",
   "execution_count": 28,
   "metadata": {
    "collapsed": true,
    "deletable": true,
    "editable": true
   },
   "outputs": [],
   "source": [
    "from sklearn.linear_model import LogisticRegression\n",
    "from sklearn.model_selection import cross_val_score"
   ]
  },
  {
   "cell_type": "code",
   "execution_count": 29,
   "metadata": {
    "collapsed": false,
    "deletable": true,
    "editable": true
   },
   "outputs": [
    {
     "data": {
      "text/plain": [
       "LogisticRegression(C=1.0, class_weight=None, dual=False, fit_intercept=True,\n",
       "          intercept_scaling=1, max_iter=100, multi_class='ovr', n_jobs=1,\n",
       "          penalty='l2', random_state=None, solver='liblinear', tol=0.0001,\n",
       "          verbose=0, warm_start=False)"
      ]
     },
     "execution_count": 29,
     "metadata": {},
     "output_type": "execute_result"
    }
   ],
   "source": [
    "clf = LogisticRegression()\n",
    "clf.fit(X, y)"
   ]
  },
  {
   "cell_type": "code",
   "execution_count": 30,
   "metadata": {
    "collapsed": false,
    "deletable": true,
    "editable": true
   },
   "outputs": [
    {
     "name": "stdout",
     "output_type": "stream",
     "text": [
      "0.503655833844\n"
     ]
    }
   ],
   "source": [
    "score = cross_val_score(clf, X, y, cv=5)\n",
    "print (score.mean())"
   ]
  },
  {
   "cell_type": "markdown",
   "metadata": {
    "deletable": true,
    "editable": true
   },
   "source": [
    "算完之後你會發現,準確率只有50趴,那這樣跟我隨便猜有什麼不一樣,  \n",
    "那先來調整一下參數看準確率會不會提高好了,因此調整一下C"
   ]
  },
  {
   "cell_type": "code",
   "execution_count": 31,
   "metadata": {
    "collapsed": false,
    "deletable": true,
    "editable": true
   },
   "outputs": [
    {
     "data": {
      "text/plain": [
       "LogisticRegression(C=0.001, class_weight=None, dual=False, fit_intercept=True,\n",
       "          intercept_scaling=1, max_iter=100, multi_class='ovr', n_jobs=1,\n",
       "          penalty='l2', random_state=None, solver='liblinear', tol=0.0001,\n",
       "          verbose=0, warm_start=False)"
      ]
     },
     "execution_count": 31,
     "metadata": {},
     "output_type": "execute_result"
    }
   ],
   "source": [
    "clf = LogisticRegression(C=0.001)\n",
    "clf.fit(X, y)"
   ]
  },
  {
   "cell_type": "code",
   "execution_count": 32,
   "metadata": {
    "collapsed": false,
    "deletable": true,
    "editable": true
   },
   "outputs": [
    {
     "name": "stdout",
     "output_type": "stream",
     "text": [
      "0.641988926563\n"
     ]
    }
   ],
   "source": [
    "score = cross_val_score(clf, X, y, cv=5)\n",
    "print (score.mean())"
   ]
  },
  {
   "cell_type": "markdown",
   "metadata": {
    "deletable": true,
    "editable": true
   },
   "source": [
    "準確率大幅上升,原因是因為 參數C在Scikit-learn裡LogisticRegression定義為正規化參數(regularization parameter)λ的倒數,  \n",
    "而正規化(regularization)是用來防止高度適合(overfitting)  \n",
    "也就是說C變得很小,那λ就會變很大,正規化的強度就會變強防止overfitting"
   ]
  },
  {
   "cell_type": "markdown",
   "metadata": {
    "deletable": true,
    "editable": true
   },
   "source": [
    "### 結語\n",
    "本文只使用較為簡單的linear model Logistic Regression,若用更為複雜的model準確率有可能會在提高  \n",
    "另一個提高準確率的方法,就是把feature engineering 再做好一點！"
   ]
  }
 ],
 "metadata": {
  "kernelspec": {
   "display_name": "Python [Root]",
   "language": "python",
   "name": "Python [Root]"
  },
  "language_info": {
   "codemirror_mode": {
    "name": "ipython",
    "version": 2
   },
   "file_extension": ".py",
   "mimetype": "text/x-python",
   "name": "python",
   "nbconvert_exporter": "python",
   "pygments_lexer": "ipython2",
   "version": "2.7.12"
  }
 },
 "nbformat": 4,
 "nbformat_minor": 2
}
